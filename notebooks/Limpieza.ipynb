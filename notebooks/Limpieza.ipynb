{
    "cells": [
        {
            "cell_type": "markdown",
            "metadata": {},
            "source": [
                "# Proceso de Limpieza de Datos de Arriendos en Puerto Montt\n",
                "\n",
                "Este notebook toma los datos brutos extraídos por el script de web scraping (`arriendos_puerto_montt.xlsx`) y realiza un proceso completo de limpieza y transformación. El objetivo es preparar un dataset limpio y estructurado (`arriendos_puerto_montt_limpio.xlsx`) listo para ser analizado y visualizado en Power BI."
            ]
        },
        {
            "cell_type": "code",
            "execution_count": 1,
            "metadata": {},
            "outputs": [
                {
                    "data": {
                        "text/html": [
                            "<pre style=\"white-space:pre;overflow-x:auto;line-height:normal;font-family:Menlo,'DejaVu Sans Mono',consolas,'Courier New',monospace\"><span style=\"color: #7fbfbf; text-decoration-color: #7fbfbf\">[09/27/25 23:33:20] </span><span style=\"color: #000080; text-decoration-color: #000080\">INFO    </span> Using                                                                  <a href=\"file://c:\\Users\\javie\\Documents\\GitHub\\RentaPtoMonttKedro\\venv\\Lib\\site-packages\\kedro\\framework\\project\\__init__.py\" target=\"_blank\"><span style=\"color: #7f7f7f; text-decoration-color: #7f7f7f\">__init__.py</span></a><span style=\"color: #7f7f7f; text-decoration-color: #7f7f7f\">:</span><a href=\"file://c:\\Users\\javie\\Documents\\GitHub\\RentaPtoMonttKedro\\venv\\Lib\\site-packages\\kedro\\framework\\project\\__init__.py#270\" target=\"_blank\"><span style=\"color: #7f7f7f; text-decoration-color: #7f7f7f\">270</span></a>\n",
                            "<span style=\"color: #7fbfbf; text-decoration-color: #7fbfbf\">                    </span>         <span style=\"color: #008000; text-decoration-color: #008000\">'c:\\Users\\javie\\Documents\\GitHub\\RentaPtoMonttKedro\\venv\\Lib\\site-pack</span> <span style=\"color: #7f7f7f; text-decoration-color: #7f7f7f\">               </span>\n",
                            "<span style=\"color: #7fbfbf; text-decoration-color: #7fbfbf\">                    </span>         <span style=\"color: #008000; text-decoration-color: #008000\">ages\\kedro\\framework\\project\\rich_logging.yml'</span> as logging              <span style=\"color: #7f7f7f; text-decoration-color: #7f7f7f\">               </span>\n",
                            "<span style=\"color: #7fbfbf; text-decoration-color: #7fbfbf\">                    </span>         configuration.                                                         <span style=\"color: #7f7f7f; text-decoration-color: #7f7f7f\">               </span>\n",
                            "</pre>\n"
                        ],
                        "text/plain": [
                            "\u001b[2;36m[09/27/25 23:33:20]\u001b[0m\u001b[2;36m \u001b[0m\u001b[34mINFO    \u001b[0m Using                                                                  \u001b]8;id=315888;file://c:\\Users\\javie\\Documents\\GitHub\\RentaPtoMonttKedro\\venv\\Lib\\site-packages\\kedro\\framework\\project\\__init__.py\u001b\\\u001b[2m__init__.py\u001b[0m\u001b]8;;\u001b\\\u001b[2m:\u001b[0m\u001b]8;id=897618;file://c:\\Users\\javie\\Documents\\GitHub\\RentaPtoMonttKedro\\venv\\Lib\\site-packages\\kedro\\framework\\project\\__init__.py#270\u001b\\\u001b[2m270\u001b[0m\u001b]8;;\u001b\\\n",
                            "\u001b[2;36m                    \u001b[0m         \u001b[32m'c:\\Users\\javie\\Documents\\GitHub\\RentaPtoMonttKedro\\venv\\Lib\\site-pack\u001b[0m \u001b[2m               \u001b[0m\n",
                            "\u001b[2;36m                    \u001b[0m         \u001b[32mages\\kedro\\framework\\project\\rich_logging.yml'\u001b[0m as logging              \u001b[2m               \u001b[0m\n",
                            "\u001b[2;36m                    \u001b[0m         configuration.                                                         \u001b[2m               \u001b[0m\n"
                        ]
                    },
                    "metadata": {},
                    "output_type": "display_data"
                },
                {
                    "data": {
                        "text/html": [
                            "<pre style=\"white-space:pre;overflow-x:auto;line-height:normal;font-family:Menlo,'DejaVu Sans Mono',consolas,'Courier New',monospace\"><span style=\"color: #7fbfbf; text-decoration-color: #7fbfbf\">[09/27/25 23:33:21] </span><span style=\"color: #000080; text-decoration-color: #000080\">INFO    </span> Registered line magic <span style=\"color: #008000; text-decoration-color: #008000\">'%reload_kedro'</span>                                   <a href=\"file://c:\\Users\\javie\\Documents\\GitHub\\RentaPtoMonttKedro\\venv\\Lib\\site-packages\\kedro\\ipython\\__init__.py\" target=\"_blank\"><span style=\"color: #7f7f7f; text-decoration-color: #7f7f7f\">__init__.py</span></a><span style=\"color: #7f7f7f; text-decoration-color: #7f7f7f\">:</span><a href=\"file://c:\\Users\\javie\\Documents\\GitHub\\RentaPtoMonttKedro\\venv\\Lib\\site-packages\\kedro\\ipython\\__init__.py#63\" target=\"_blank\"><span style=\"color: #7f7f7f; text-decoration-color: #7f7f7f\">63</span></a>\n",
                            "</pre>\n"
                        ],
                        "text/plain": [
                            "\u001b[2;36m[09/27/25 23:33:21]\u001b[0m\u001b[2;36m \u001b[0m\u001b[34mINFO    \u001b[0m Registered line magic \u001b[32m'%reload_kedro'\u001b[0m                                   \u001b]8;id=830451;file://c:\\Users\\javie\\Documents\\GitHub\\RentaPtoMonttKedro\\venv\\Lib\\site-packages\\kedro\\ipython\\__init__.py\u001b\\\u001b[2m__init__.py\u001b[0m\u001b]8;;\u001b\\\u001b[2m:\u001b[0m\u001b]8;id=229661;file://c:\\Users\\javie\\Documents\\GitHub\\RentaPtoMonttKedro\\venv\\Lib\\site-packages\\kedro\\ipython\\__init__.py#63\u001b\\\u001b[2m63\u001b[0m\u001b]8;;\u001b\\\n"
                        ]
                    },
                    "metadata": {},
                    "output_type": "display_data"
                },
                {
                    "data": {
                        "text/html": [
                            "<pre style=\"white-space:pre;overflow-x:auto;line-height:normal;font-family:Menlo,'DejaVu Sans Mono',consolas,'Courier New',monospace\"><span style=\"color: #7fbfbf; text-decoration-color: #7fbfbf\">                    </span><span style=\"color: #000080; text-decoration-color: #000080\">INFO    </span> Registered line magic <span style=\"color: #008000; text-decoration-color: #008000\">'%load_node'</span>                                      <a href=\"file://c:\\Users\\javie\\Documents\\GitHub\\RentaPtoMonttKedro\\venv\\Lib\\site-packages\\kedro\\ipython\\__init__.py\" target=\"_blank\"><span style=\"color: #7f7f7f; text-decoration-color: #7f7f7f\">__init__.py</span></a><span style=\"color: #7f7f7f; text-decoration-color: #7f7f7f\">:</span><a href=\"file://c:\\Users\\javie\\Documents\\GitHub\\RentaPtoMonttKedro\\venv\\Lib\\site-packages\\kedro\\ipython\\__init__.py#65\" target=\"_blank\"><span style=\"color: #7f7f7f; text-decoration-color: #7f7f7f\">65</span></a>\n",
                            "</pre>\n"
                        ],
                        "text/plain": [
                            "\u001b[2;36m                   \u001b[0m\u001b[2;36m \u001b[0m\u001b[34mINFO    \u001b[0m Registered line magic \u001b[32m'%load_node'\u001b[0m                                      \u001b]8;id=666481;file://c:\\Users\\javie\\Documents\\GitHub\\RentaPtoMonttKedro\\venv\\Lib\\site-packages\\kedro\\ipython\\__init__.py\u001b\\\u001b[2m__init__.py\u001b[0m\u001b]8;;\u001b\\\u001b[2m:\u001b[0m\u001b]8;id=719957;file://c:\\Users\\javie\\Documents\\GitHub\\RentaPtoMonttKedro\\venv\\Lib\\site-packages\\kedro\\ipython\\__init__.py#65\u001b\\\u001b[2m65\u001b[0m\u001b]8;;\u001b\\\n"
                        ]
                    },
                    "metadata": {},
                    "output_type": "display_data"
                },
                {
                    "data": {
                        "text/html": [
                            "<pre style=\"white-space:pre;overflow-x:auto;line-height:normal;font-family:Menlo,'DejaVu Sans Mono',consolas,'Courier New',monospace\"><span style=\"color: #7fbfbf; text-decoration-color: #7fbfbf\">                    </span><span style=\"color: #000080; text-decoration-color: #000080\">INFO    </span> Resolved project path as:                                              <a href=\"file://c:\\Users\\javie\\Documents\\GitHub\\RentaPtoMonttKedro\\venv\\Lib\\site-packages\\kedro\\ipython\\__init__.py\" target=\"_blank\"><span style=\"color: #7f7f7f; text-decoration-color: #7f7f7f\">__init__.py</span></a><span style=\"color: #7f7f7f; text-decoration-color: #7f7f7f\">:</span><a href=\"file://c:\\Users\\javie\\Documents\\GitHub\\RentaPtoMonttKedro\\venv\\Lib\\site-packages\\kedro\\ipython\\__init__.py#180\" target=\"_blank\"><span style=\"color: #7f7f7f; text-decoration-color: #7f7f7f\">180</span></a>\n",
                            "<span style=\"color: #7fbfbf; text-decoration-color: #7fbfbf\">                    </span>         c:\\Users\\javie\\Documents\\GitHub\\RentaPtoMonttKedro.                    <span style=\"color: #7f7f7f; text-decoration-color: #7f7f7f\">               </span>\n",
                            "<span style=\"color: #7fbfbf; text-decoration-color: #7fbfbf\">                    </span>         To set a different path, run <span style=\"color: #008000; text-decoration-color: #008000\">'%reload_kedro &lt;project_root&gt;'</span>            <span style=\"color: #7f7f7f; text-decoration-color: #7f7f7f\">               </span>\n",
                            "</pre>\n"
                        ],
                        "text/plain": [
                            "\u001b[2;36m                   \u001b[0m\u001b[2;36m \u001b[0m\u001b[34mINFO    \u001b[0m Resolved project path as:                                              \u001b]8;id=248102;file://c:\\Users\\javie\\Documents\\GitHub\\RentaPtoMonttKedro\\venv\\Lib\\site-packages\\kedro\\ipython\\__init__.py\u001b\\\u001b[2m__init__.py\u001b[0m\u001b]8;;\u001b\\\u001b[2m:\u001b[0m\u001b]8;id=416170;file://c:\\Users\\javie\\Documents\\GitHub\\RentaPtoMonttKedro\\venv\\Lib\\site-packages\\kedro\\ipython\\__init__.py#180\u001b\\\u001b[2m180\u001b[0m\u001b]8;;\u001b\\\n",
                            "\u001b[2;36m                    \u001b[0m         c:\\Users\\javie\\Documents\\GitHub\\RentaPtoMonttKedro.                    \u001b[2m               \u001b[0m\n",
                            "\u001b[2;36m                    \u001b[0m         To set a different path, run \u001b[32m'%reload_kedro \u001b[0m\u001b[32m<\u001b[0m\u001b[32mproject_root\u001b[0m\u001b[32m>\u001b[0m\u001b[32m'\u001b[0m            \u001b[2m               \u001b[0m\n"
                        ]
                    },
                    "metadata": {},
                    "output_type": "display_data"
                },
                {
                    "data": {
                        "text/html": [
                            "<pre style=\"white-space:pre;overflow-x:auto;line-height:normal;font-family:Menlo,'DejaVu Sans Mono',consolas,'Courier New',monospace\"><span style=\"color: #7fbfbf; text-decoration-color: #7fbfbf\">[09/27/25 23:33:21] </span><span style=\"color: #000080; text-decoration-color: #000080\">INFO    </span> Kedro is sending anonymous usage data with the sole purpose of improving <a href=\"file://c:\\Users\\javie\\Documents\\GitHub\\RentaPtoMonttKedro\\venv\\Lib\\site-packages\\kedro_telemetry\\plugin.py\" target=\"_blank\"><span style=\"color: #7f7f7f; text-decoration-color: #7f7f7f\">plugin.py</span></a><span style=\"color: #7f7f7f; text-decoration-color: #7f7f7f\">:</span><a href=\"file://c:\\Users\\javie\\Documents\\GitHub\\RentaPtoMonttKedro\\venv\\Lib\\site-packages\\kedro_telemetry\\plugin.py#243\" target=\"_blank\"><span style=\"color: #7f7f7f; text-decoration-color: #7f7f7f\">243</span></a>\n",
                            "<span style=\"color: #7fbfbf; text-decoration-color: #7fbfbf\">                    </span>         the product. No personal data or IP addresses are stored on our side. To <span style=\"color: #7f7f7f; text-decoration-color: #7f7f7f\">             </span>\n",
                            "<span style=\"color: #7fbfbf; text-decoration-color: #7fbfbf\">                    </span>         opt out, set the `KEDRO_DISABLE_TELEMETRY` or `DO_NOT_TRACK` environment <span style=\"color: #7f7f7f; text-decoration-color: #7f7f7f\">             </span>\n",
                            "<span style=\"color: #7fbfbf; text-decoration-color: #7fbfbf\">                    </span>         variables, or create a `.telemetry` file in the current working          <span style=\"color: #7f7f7f; text-decoration-color: #7f7f7f\">             </span>\n",
                            "<span style=\"color: #7fbfbf; text-decoration-color: #7fbfbf\">                    </span>         directory with the contents `consent: false`. To hide this message,      <span style=\"color: #7f7f7f; text-decoration-color: #7f7f7f\">             </span>\n",
                            "<span style=\"color: #7fbfbf; text-decoration-color: #7fbfbf\">                    </span>         explicitly grant or deny consent. Read more at                           <span style=\"color: #7f7f7f; text-decoration-color: #7f7f7f\">             </span>\n",
                            "<span style=\"color: #7fbfbf; text-decoration-color: #7fbfbf\">                    </span>         <span style=\"color: #0000ff; text-decoration-color: #0000ff; text-decoration: underline\">https://docs.kedro.org/en/stable/configuration/telemetry.html</span>            <span style=\"color: #7f7f7f; text-decoration-color: #7f7f7f\">             </span>\n",
                            "</pre>\n"
                        ],
                        "text/plain": [
                            "\u001b[2;36m[09/27/25 23:33:21]\u001b[0m\u001b[2;36m \u001b[0m\u001b[34mINFO    \u001b[0m Kedro is sending anonymous usage data with the sole purpose of improving \u001b]8;id=869918;file://c:\\Users\\javie\\Documents\\GitHub\\RentaPtoMonttKedro\\venv\\Lib\\site-packages\\kedro_telemetry\\plugin.py\u001b\\\u001b[2mplugin.py\u001b[0m\u001b]8;;\u001b\\\u001b[2m:\u001b[0m\u001b]8;id=343068;file://c:\\Users\\javie\\Documents\\GitHub\\RentaPtoMonttKedro\\venv\\Lib\\site-packages\\kedro_telemetry\\plugin.py#243\u001b\\\u001b[2m243\u001b[0m\u001b]8;;\u001b\\\n",
                            "\u001b[2;36m                    \u001b[0m         the product. No personal data or IP addresses are stored on our side. To \u001b[2m             \u001b[0m\n",
                            "\u001b[2;36m                    \u001b[0m         opt out, set the `KEDRO_DISABLE_TELEMETRY` or `DO_NOT_TRACK` environment \u001b[2m             \u001b[0m\n",
                            "\u001b[2;36m                    \u001b[0m         variables, or create a `.telemetry` file in the current working          \u001b[2m             \u001b[0m\n",
                            "\u001b[2;36m                    \u001b[0m         directory with the contents `consent: false`. To hide this message,      \u001b[2m             \u001b[0m\n",
                            "\u001b[2;36m                    \u001b[0m         explicitly grant or deny consent. Read more at                           \u001b[2m             \u001b[0m\n",
                            "\u001b[2;36m                    \u001b[0m         \u001b[4;94mhttps://docs.kedro.org/en/stable/configuration/telemetry.html\u001b[0m            \u001b[2m             \u001b[0m\n"
                        ]
                    },
                    "metadata": {},
                    "output_type": "display_data"
                },
                {
                    "data": {
                        "text/html": [
                            "<pre style=\"white-space:pre;overflow-x:auto;line-height:normal;font-family:Menlo,'DejaVu Sans Mono',consolas,'Courier New',monospace\"><span style=\"color: #7fbfbf; text-decoration-color: #7fbfbf\">[09/27/25 23:33:22] </span><span style=\"color: #000080; text-decoration-color: #000080\">INFO    </span> Kedro project RentaPtoMonttKedro                                       <a href=\"file://c:\\Users\\javie\\Documents\\GitHub\\RentaPtoMonttKedro\\venv\\Lib\\site-packages\\kedro\\ipython\\__init__.py\" target=\"_blank\"><span style=\"color: #7f7f7f; text-decoration-color: #7f7f7f\">__init__.py</span></a><span style=\"color: #7f7f7f; text-decoration-color: #7f7f7f\">:</span><a href=\"file://c:\\Users\\javie\\Documents\\GitHub\\RentaPtoMonttKedro\\venv\\Lib\\site-packages\\kedro\\ipython\\__init__.py#146\" target=\"_blank\"><span style=\"color: #7f7f7f; text-decoration-color: #7f7f7f\">146</span></a>\n",
                            "</pre>\n"
                        ],
                        "text/plain": [
                            "\u001b[2;36m[09/27/25 23:33:22]\u001b[0m\u001b[2;36m \u001b[0m\u001b[34mINFO    \u001b[0m Kedro project RentaPtoMonttKedro                                       \u001b]8;id=669804;file://c:\\Users\\javie\\Documents\\GitHub\\RentaPtoMonttKedro\\venv\\Lib\\site-packages\\kedro\\ipython\\__init__.py\u001b\\\u001b[2m__init__.py\u001b[0m\u001b]8;;\u001b\\\u001b[2m:\u001b[0m\u001b]8;id=361741;file://c:\\Users\\javie\\Documents\\GitHub\\RentaPtoMonttKedro\\venv\\Lib\\site-packages\\kedro\\ipython\\__init__.py#146\u001b\\\u001b[2m146\u001b[0m\u001b]8;;\u001b\\\n"
                        ]
                    },
                    "metadata": {},
                    "output_type": "display_data"
                },
                {
                    "data": {
                        "text/html": [
                            "<pre style=\"white-space:pre;overflow-x:auto;line-height:normal;font-family:Menlo,'DejaVu Sans Mono',consolas,'Courier New',monospace\"><span style=\"color: #7fbfbf; text-decoration-color: #7fbfbf\">                    </span><span style=\"color: #000080; text-decoration-color: #000080\">INFO    </span> Defined global variable <span style=\"color: #008000; text-decoration-color: #008000\">'context'</span>, <span style=\"color: #008000; text-decoration-color: #008000\">'session'</span>, <span style=\"color: #008000; text-decoration-color: #008000\">'catalog'</span> and            <a href=\"file://c:\\Users\\javie\\Documents\\GitHub\\RentaPtoMonttKedro\\venv\\Lib\\site-packages\\kedro\\ipython\\__init__.py\" target=\"_blank\"><span style=\"color: #7f7f7f; text-decoration-color: #7f7f7f\">__init__.py</span></a><span style=\"color: #7f7f7f; text-decoration-color: #7f7f7f\">:</span><a href=\"file://c:\\Users\\javie\\Documents\\GitHub\\RentaPtoMonttKedro\\venv\\Lib\\site-packages\\kedro\\ipython\\__init__.py#147\" target=\"_blank\"><span style=\"color: #7f7f7f; text-decoration-color: #7f7f7f\">147</span></a>\n",
                            "<span style=\"color: #7fbfbf; text-decoration-color: #7fbfbf\">                    </span>         <span style=\"color: #008000; text-decoration-color: #008000\">'pipelines'</span>                                                            <span style=\"color: #7f7f7f; text-decoration-color: #7f7f7f\">               </span>\n",
                            "</pre>\n"
                        ],
                        "text/plain": [
                            "\u001b[2;36m                   \u001b[0m\u001b[2;36m \u001b[0m\u001b[34mINFO    \u001b[0m Defined global variable \u001b[32m'context'\u001b[0m, \u001b[32m'session'\u001b[0m, \u001b[32m'catalog'\u001b[0m and            \u001b]8;id=372543;file://c:\\Users\\javie\\Documents\\GitHub\\RentaPtoMonttKedro\\venv\\Lib\\site-packages\\kedro\\ipython\\__init__.py\u001b\\\u001b[2m__init__.py\u001b[0m\u001b]8;;\u001b\\\u001b[2m:\u001b[0m\u001b]8;id=357974;file://c:\\Users\\javie\\Documents\\GitHub\\RentaPtoMonttKedro\\venv\\Lib\\site-packages\\kedro\\ipython\\__init__.py#147\u001b\\\u001b[2m147\u001b[0m\u001b]8;;\u001b\\\n",
                            "\u001b[2;36m                    \u001b[0m         \u001b[32m'pipelines'\u001b[0m                                                            \u001b[2m               \u001b[0m\n"
                        ]
                    },
                    "metadata": {},
                    "output_type": "display_data"
                },
                {
                    "data": {
                        "text/html": [
                            "<pre style=\"white-space:pre;overflow-x:auto;line-height:normal;font-family:Menlo,'DejaVu Sans Mono',consolas,'Courier New',monospace\"><span style=\"color: #7fbfbf; text-decoration-color: #7fbfbf\">                    </span><span style=\"color: #000080; text-decoration-color: #000080\">INFO    </span> Resolved project path as:                                              <a href=\"file://c:\\Users\\javie\\Documents\\GitHub\\RentaPtoMonttKedro\\venv\\Lib\\site-packages\\kedro\\ipython\\__init__.py\" target=\"_blank\"><span style=\"color: #7f7f7f; text-decoration-color: #7f7f7f\">__init__.py</span></a><span style=\"color: #7f7f7f; text-decoration-color: #7f7f7f\">:</span><a href=\"file://c:\\Users\\javie\\Documents\\GitHub\\RentaPtoMonttKedro\\venv\\Lib\\site-packages\\kedro\\ipython\\__init__.py#180\" target=\"_blank\"><span style=\"color: #7f7f7f; text-decoration-color: #7f7f7f\">180</span></a>\n",
                            "<span style=\"color: #7fbfbf; text-decoration-color: #7fbfbf\">                    </span>         C:\\Users\\javie\\Documents\\GitHub\\RentaPtoMonttKedro.                    <span style=\"color: #7f7f7f; text-decoration-color: #7f7f7f\">               </span>\n",
                            "<span style=\"color: #7fbfbf; text-decoration-color: #7fbfbf\">                    </span>         To set a different path, run <span style=\"color: #008000; text-decoration-color: #008000\">'%reload_kedro &lt;project_root&gt;'</span>            <span style=\"color: #7f7f7f; text-decoration-color: #7f7f7f\">               </span>\n",
                            "</pre>\n"
                        ],
                        "text/plain": [
                            "\u001b[2;36m                   \u001b[0m\u001b[2;36m \u001b[0m\u001b[34mINFO    \u001b[0m Resolved project path as:                                              \u001b]8;id=83965;file://c:\\Users\\javie\\Documents\\GitHub\\RentaPtoMonttKedro\\venv\\Lib\\site-packages\\kedro\\ipython\\__init__.py\u001b\\\u001b[2m__init__.py\u001b[0m\u001b]8;;\u001b\\\u001b[2m:\u001b[0m\u001b]8;id=667408;file://c:\\Users\\javie\\Documents\\GitHub\\RentaPtoMonttKedro\\venv\\Lib\\site-packages\\kedro\\ipython\\__init__.py#180\u001b\\\u001b[2m180\u001b[0m\u001b]8;;\u001b\\\n",
                            "\u001b[2;36m                    \u001b[0m         C:\\Users\\javie\\Documents\\GitHub\\RentaPtoMonttKedro.                    \u001b[2m               \u001b[0m\n",
                            "\u001b[2;36m                    \u001b[0m         To set a different path, run \u001b[32m'%reload_kedro \u001b[0m\u001b[32m<\u001b[0m\u001b[32mproject_root\u001b[0m\u001b[32m>\u001b[0m\u001b[32m'\u001b[0m            \u001b[2m               \u001b[0m\n"
                        ]
                    },
                    "metadata": {},
                    "output_type": "display_data"
                },
                {
                    "data": {
                        "text/html": [
                            "<pre style=\"white-space:pre;overflow-x:auto;line-height:normal;font-family:Menlo,'DejaVu Sans Mono',consolas,'Courier New',monospace\"><span style=\"color: #7fbfbf; text-decoration-color: #7fbfbf\">[09/27/25 23:33:23] </span><span style=\"color: #000080; text-decoration-color: #000080\">INFO    </span> Kedro is sending anonymous usage data with the sole purpose of improving <a href=\"file://c:\\Users\\javie\\Documents\\GitHub\\RentaPtoMonttKedro\\venv\\Lib\\site-packages\\kedro_telemetry\\plugin.py\" target=\"_blank\"><span style=\"color: #7f7f7f; text-decoration-color: #7f7f7f\">plugin.py</span></a><span style=\"color: #7f7f7f; text-decoration-color: #7f7f7f\">:</span><a href=\"file://c:\\Users\\javie\\Documents\\GitHub\\RentaPtoMonttKedro\\venv\\Lib\\site-packages\\kedro_telemetry\\plugin.py#243\" target=\"_blank\"><span style=\"color: #7f7f7f; text-decoration-color: #7f7f7f\">243</span></a>\n",
                            "<span style=\"color: #7fbfbf; text-decoration-color: #7fbfbf\">                    </span>         the product. No personal data or IP addresses are stored on our side. To <span style=\"color: #7f7f7f; text-decoration-color: #7f7f7f\">             </span>\n",
                            "<span style=\"color: #7fbfbf; text-decoration-color: #7fbfbf\">                    </span>         opt out, set the `KEDRO_DISABLE_TELEMETRY` or `DO_NOT_TRACK` environment <span style=\"color: #7f7f7f; text-decoration-color: #7f7f7f\">             </span>\n",
                            "<span style=\"color: #7fbfbf; text-decoration-color: #7fbfbf\">                    </span>         variables, or create a `.telemetry` file in the current working          <span style=\"color: #7f7f7f; text-decoration-color: #7f7f7f\">             </span>\n",
                            "<span style=\"color: #7fbfbf; text-decoration-color: #7fbfbf\">                    </span>         directory with the contents `consent: false`. To hide this message,      <span style=\"color: #7f7f7f; text-decoration-color: #7f7f7f\">             </span>\n",
                            "<span style=\"color: #7fbfbf; text-decoration-color: #7fbfbf\">                    </span>         explicitly grant or deny consent. Read more at                           <span style=\"color: #7f7f7f; text-decoration-color: #7f7f7f\">             </span>\n",
                            "<span style=\"color: #7fbfbf; text-decoration-color: #7fbfbf\">                    </span>         <span style=\"color: #0000ff; text-decoration-color: #0000ff; text-decoration: underline\">https://docs.kedro.org/en/stable/configuration/telemetry.html</span>            <span style=\"color: #7f7f7f; text-decoration-color: #7f7f7f\">             </span>\n",
                            "</pre>\n"
                        ],
                        "text/plain": [
                            "\u001b[2;36m[09/27/25 23:33:23]\u001b[0m\u001b[2;36m \u001b[0m\u001b[34mINFO    \u001b[0m Kedro is sending anonymous usage data with the sole purpose of improving \u001b]8;id=119129;file://c:\\Users\\javie\\Documents\\GitHub\\RentaPtoMonttKedro\\venv\\Lib\\site-packages\\kedro_telemetry\\plugin.py\u001b\\\u001b[2mplugin.py\u001b[0m\u001b]8;;\u001b\\\u001b[2m:\u001b[0m\u001b]8;id=120164;file://c:\\Users\\javie\\Documents\\GitHub\\RentaPtoMonttKedro\\venv\\Lib\\site-packages\\kedro_telemetry\\plugin.py#243\u001b\\\u001b[2m243\u001b[0m\u001b]8;;\u001b\\\n",
                            "\u001b[2;36m                    \u001b[0m         the product. No personal data or IP addresses are stored on our side. To \u001b[2m             \u001b[0m\n",
                            "\u001b[2;36m                    \u001b[0m         opt out, set the `KEDRO_DISABLE_TELEMETRY` or `DO_NOT_TRACK` environment \u001b[2m             \u001b[0m\n",
                            "\u001b[2;36m                    \u001b[0m         variables, or create a `.telemetry` file in the current working          \u001b[2m             \u001b[0m\n",
                            "\u001b[2;36m                    \u001b[0m         directory with the contents `consent: false`. To hide this message,      \u001b[2m             \u001b[0m\n",
                            "\u001b[2;36m                    \u001b[0m         explicitly grant or deny consent. Read more at                           \u001b[2m             \u001b[0m\n",
                            "\u001b[2;36m                    \u001b[0m         \u001b[4;94mhttps://docs.kedro.org/en/stable/configuration/telemetry.html\u001b[0m            \u001b[2m             \u001b[0m\n"
                        ]
                    },
                    "metadata": {},
                    "output_type": "display_data"
                },
                {
                    "data": {
                        "text/html": [
                            "<pre style=\"white-space:pre;overflow-x:auto;line-height:normal;font-family:Menlo,'DejaVu Sans Mono',consolas,'Courier New',monospace\"><span style=\"color: #7fbfbf; text-decoration-color: #7fbfbf\">[09/27/25 23:33:24] </span><span style=\"color: #000080; text-decoration-color: #000080\">INFO    </span> Kedro project RentaPtoMonttKedro                                       <a href=\"file://c:\\Users\\javie\\Documents\\GitHub\\RentaPtoMonttKedro\\venv\\Lib\\site-packages\\kedro\\ipython\\__init__.py\" target=\"_blank\"><span style=\"color: #7f7f7f; text-decoration-color: #7f7f7f\">__init__.py</span></a><span style=\"color: #7f7f7f; text-decoration-color: #7f7f7f\">:</span><a href=\"file://c:\\Users\\javie\\Documents\\GitHub\\RentaPtoMonttKedro\\venv\\Lib\\site-packages\\kedro\\ipython\\__init__.py#146\" target=\"_blank\"><span style=\"color: #7f7f7f; text-decoration-color: #7f7f7f\">146</span></a>\n",
                            "</pre>\n"
                        ],
                        "text/plain": [
                            "\u001b[2;36m[09/27/25 23:33:24]\u001b[0m\u001b[2;36m \u001b[0m\u001b[34mINFO    \u001b[0m Kedro project RentaPtoMonttKedro                                       \u001b]8;id=516222;file://c:\\Users\\javie\\Documents\\GitHub\\RentaPtoMonttKedro\\venv\\Lib\\site-packages\\kedro\\ipython\\__init__.py\u001b\\\u001b[2m__init__.py\u001b[0m\u001b]8;;\u001b\\\u001b[2m:\u001b[0m\u001b]8;id=394413;file://c:\\Users\\javie\\Documents\\GitHub\\RentaPtoMonttKedro\\venv\\Lib\\site-packages\\kedro\\ipython\\__init__.py#146\u001b\\\u001b[2m146\u001b[0m\u001b]8;;\u001b\\\n"
                        ]
                    },
                    "metadata": {},
                    "output_type": "display_data"
                },
                {
                    "data": {
                        "text/html": [
                            "<pre style=\"white-space:pre;overflow-x:auto;line-height:normal;font-family:Menlo,'DejaVu Sans Mono',consolas,'Courier New',monospace\"><span style=\"color: #7fbfbf; text-decoration-color: #7fbfbf\">                    </span><span style=\"color: #000080; text-decoration-color: #000080\">INFO    </span> Defined global variable <span style=\"color: #008000; text-decoration-color: #008000\">'context'</span>, <span style=\"color: #008000; text-decoration-color: #008000\">'session'</span>, <span style=\"color: #008000; text-decoration-color: #008000\">'catalog'</span> and            <a href=\"file://c:\\Users\\javie\\Documents\\GitHub\\RentaPtoMonttKedro\\venv\\Lib\\site-packages\\kedro\\ipython\\__init__.py\" target=\"_blank\"><span style=\"color: #7f7f7f; text-decoration-color: #7f7f7f\">__init__.py</span></a><span style=\"color: #7f7f7f; text-decoration-color: #7f7f7f\">:</span><a href=\"file://c:\\Users\\javie\\Documents\\GitHub\\RentaPtoMonttKedro\\venv\\Lib\\site-packages\\kedro\\ipython\\__init__.py#147\" target=\"_blank\"><span style=\"color: #7f7f7f; text-decoration-color: #7f7f7f\">147</span></a>\n",
                            "<span style=\"color: #7fbfbf; text-decoration-color: #7fbfbf\">                    </span>         <span style=\"color: #008000; text-decoration-color: #008000\">'pipelines'</span>                                                            <span style=\"color: #7f7f7f; text-decoration-color: #7f7f7f\">               </span>\n",
                            "</pre>\n"
                        ],
                        "text/plain": [
                            "\u001b[2;36m                   \u001b[0m\u001b[2;36m \u001b[0m\u001b[34mINFO    \u001b[0m Defined global variable \u001b[32m'context'\u001b[0m, \u001b[32m'session'\u001b[0m, \u001b[32m'catalog'\u001b[0m and            \u001b]8;id=421778;file://c:\\Users\\javie\\Documents\\GitHub\\RentaPtoMonttKedro\\venv\\Lib\\site-packages\\kedro\\ipython\\__init__.py\u001b\\\u001b[2m__init__.py\u001b[0m\u001b]8;;\u001b\\\u001b[2m:\u001b[0m\u001b]8;id=744200;file://c:\\Users\\javie\\Documents\\GitHub\\RentaPtoMonttKedro\\venv\\Lib\\site-packages\\kedro\\ipython\\__init__.py#147\u001b\\\u001b[2m147\u001b[0m\u001b]8;;\u001b\\\n",
                            "\u001b[2;36m                    \u001b[0m         \u001b[32m'pipelines'\u001b[0m                                                            \u001b[2m               \u001b[0m\n"
                        ]
                    },
                    "metadata": {},
                    "output_type": "display_data"
                },
                {
                    "name": "stdout",
                    "output_type": "stream",
                    "text": [
                        "Librerías importadas y contexto de Kedro cargado correctamente.\n"
                    ]
                }
            ],
            "source": [
                "%load_ext kedro.ipython\n",
                "%reload_kedro\n",
                "\n",
                "import pandas as pd  # noqa\n",
                "import numpy as np  # noqa\n",
                "import re  # noqa\n",
                "import datetime  # noqa\n",
                "from rentaptomonttkedro.pipelines.data_processing.nodes import get_current_uf_value  # noqa\n",
                "from unidecode import unidecode  # noqa\n",
                "\n",
                "print(\"Librerías importadas y contexto de Kedro cargado correctamente.\")"
            ]
        },
        {
            "cell_type": "markdown",
            "metadata": {},
            "source": [
                "## 1. Carga de Datos\n",
                "\n",
                "Cargamos el archivo Excel con los datos en crudo usando el catálogo de Kedro."
            ]
        },
        {
            "cell_type": "code",
            "execution_count": 2,
            "metadata": {},
            "outputs": [
                {
                    "data": {
                        "text/html": [
                            "<pre style=\"white-space:pre;overflow-x:auto;line-height:normal;font-family:Menlo,'DejaVu Sans Mono',consolas,'Courier New',monospace\"><span style=\"color: #7fbfbf; text-decoration-color: #7fbfbf\">                    </span><span style=\"color: #000080; text-decoration-color: #000080\">INFO    </span> Loading data from <span style=\"color: #ff8700; text-decoration-color: #ff8700\">raw_arriendos</span> <span style=\"font-weight: bold\">(</span>ExcelDataset<span style=\"font-weight: bold\">)</span><span style=\"color: #808000; text-decoration-color: #808000\">...</span>                 <a href=\"file://c:\\Users\\javie\\Documents\\GitHub\\RentaPtoMonttKedro\\venv\\Lib\\site-packages\\kedro\\io\\data_catalog.py\" target=\"_blank\"><span style=\"color: #7f7f7f; text-decoration-color: #7f7f7f\">data_catalog.py</span></a><span style=\"color: #7f7f7f; text-decoration-color: #7f7f7f\">:</span><a href=\"file://c:\\Users\\javie\\Documents\\GitHub\\RentaPtoMonttKedro\\venv\\Lib\\site-packages\\kedro\\io\\data_catalog.py#1046\" target=\"_blank\"><span style=\"color: #7f7f7f; text-decoration-color: #7f7f7f\">1046</span></a>\n",
                            "</pre>\n"
                        ],
                        "text/plain": [
                            "\u001b[2;36m                   \u001b[0m\u001b[2;36m \u001b[0m\u001b[34mINFO    \u001b[0m Loading data from \u001b[38;5;208mraw_arriendos\u001b[0m \u001b[1m(\u001b[0mExcelDataset\u001b[1m)\u001b[0m\u001b[33m...\u001b[0m                 \u001b]8;id=19161;file://c:\\Users\\javie\\Documents\\GitHub\\RentaPtoMonttKedro\\venv\\Lib\\site-packages\\kedro\\io\\data_catalog.py\u001b\\\u001b[2mdata_catalog.py\u001b[0m\u001b]8;;\u001b\\\u001b[2m:\u001b[0m\u001b]8;id=848452;file://c:\\Users\\javie\\Documents\\GitHub\\RentaPtoMonttKedro\\venv\\Lib\\site-packages\\kedro\\io\\data_catalog.py#1046\u001b\\\u001b[2m1046\u001b[0m\u001b]8;;\u001b\\\n"
                        ]
                    },
                    "metadata": {},
                    "output_type": "display_data"
                },
                {
                    "name": "stdout",
                    "output_type": "stream",
                    "text": [
                        "Dataset 'raw_arriendos' cargado exitosamente desde el catálogo.\n"
                    ]
                }
            ],
            "source": [
                "# --- Cargar los Datos usando el Catálogo de Kedro ---\n",
                "# El 'catalog' fue definido globalmente por %reload_kedro\n",
                "# y usa la configuración de 'conf/base/catalog.yml'.\n",
                "\n",
                "# El nombre \"raw_arriendos\" debe coincidir con el definido en catalog.yml\n",
                "df = catalog.load(\"raw_arriendos\")  # type: ignore\n",
                "print(\"Dataset 'raw_arriendos' cargado exitosamente desde el catálogo.\")"
            ]
        },
        {
            "cell_type": "markdown",
            "metadata": {},
            "source": [
                "## 2. Exploración Inicial\n",
                "\n",
                "Visualizamos las primeras filas del DataFrame para entender la estructura y el formato de los datos antes de la limpieza."
            ]
        },
        {
            "cell_type": "code",
            "execution_count": 3,
            "metadata": {},
            "outputs": [
                {
                    "data": {
                        "text/html": [
                            "<pre style=\"white-space:pre;overflow-x:auto;line-height:normal;font-family:Menlo,'DejaVu Sans Mono',consolas,'Courier New',monospace\"></pre>\n"
                        ],
                        "text/plain": []
                    },
                    "metadata": {},
                    "output_type": "display_data"
                },
                {
                    "data": {
                        "text/html": [
                            "<div>\n",
                            "<style scoped>\n",
                            "    .dataframe tbody tr th:only-of-type {\n",
                            "        vertical-align: middle;\n",
                            "    }\n",
                            "\n",
                            "    .dataframe tbody tr th {\n",
                            "        vertical-align: top;\n",
                            "    }\n",
                            "\n",
                            "    .dataframe thead th {\n",
                            "        text-align: right;\n",
                            "    }\n",
                            "</style>\n",
                            "<table border=\"1\" class=\"dataframe\">\n",
                            "  <thead>\n",
                            "    <tr style=\"text-align: right;\">\n",
                            "      <th></th>\n",
                            "      <th>Tipo_de_hogar</th>\n",
                            "      <th>Precio</th>\n",
                            "      <th>Atributos</th>\n",
                            "      <th>Ubicacion</th>\n",
                            "    </tr>\n",
                            "  </thead>\n",
                            "  <tbody>\n",
                            "    <tr>\n",
                            "      <th>0</th>\n",
                            "      <td>Local en arriendo</td>\n",
                            "      <td>UF\\n25</td>\n",
                            "      <td>3 banos\\n625 m2 utiles</td>\n",
                            "      <td>Antonio Varas 986, Puerto Montt, Centro De Pue...</td>\n",
                            "    </tr>\n",
                            "    <tr>\n",
                            "      <th>1</th>\n",
                            "      <td>Departamento en arriendo</td>\n",
                            "      <td>$\\n450.000</td>\n",
                            "      <td>3 dormitorios\\n1 bano\\n42 m2 utiles</td>\n",
                            "      <td>Volcan Corcovado, Puerto Montt, La Paloma, Pue...</td>\n",
                            "    </tr>\n",
                            "    <tr>\n",
                            "      <th>2</th>\n",
                            "      <td>Casa en arriendo</td>\n",
                            "      <td>$\\n750.000</td>\n",
                            "      <td>3 dormitorios\\n2 banos\\n100 m2 utiles</td>\n",
                            "      <td>Laguna Del Laja 4904, Puerto Montt, Puerto Montt</td>\n",
                            "    </tr>\n",
                            "    <tr>\n",
                            "      <th>3</th>\n",
                            "      <td>Departamento en arriendo</td>\n",
                            "      <td>$\\n500.000</td>\n",
                            "      <td>2 dormitorios\\n1 bano\\n50 m2 utiles</td>\n",
                            "      <td>Impecable Estado / Sargento Silva, Puerto Montt</td>\n",
                            "    </tr>\n",
                            "    <tr>\n",
                            "      <th>4</th>\n",
                            "      <td>Casa en arriendo</td>\n",
                            "      <td>$\\n850.000</td>\n",
                            "      <td>3 dormitorios\\n2 banos\\n196 m2 utiles</td>\n",
                            "      <td>Casa En Parcela Esquina A Orilla De Carretera ...</td>\n",
                            "    </tr>\n",
                            "  </tbody>\n",
                            "</table>\n",
                            "</div>"
                        ],
                        "text/plain": [
                            "\n",
                            "              Tipo_de_hogar      Precio  \\\n",
                            "\u001b[1;36m0\u001b[0m         Local en arriendo      UF\\n25   \n",
                            "\u001b[1;36m1\u001b[0m  Departamento en arriendo  $\\n450.\u001b[1;36m000\u001b[0m   \n",
                            "\u001b[1;36m2\u001b[0m          Casa en arriendo  $\\n750.\u001b[1;36m000\u001b[0m   \n",
                            "\u001b[1;36m3\u001b[0m  Departamento en arriendo  $\\n500.\u001b[1;36m000\u001b[0m   \n",
                            "\u001b[1;36m4\u001b[0m          Casa en arriendo  $\\n850.\u001b[1;36m000\u001b[0m   \n",
                            "\n",
                            "                               Atributos  \\\n",
                            "\u001b[1;36m0\u001b[0m                 \u001b[1;36m3\u001b[0m banos\\n625 m2 utiles   \n",
                            "\u001b[1;36m1\u001b[0m    \u001b[1;36m3\u001b[0m dormitorios\\n1 bano\\n42 m2 utiles   \n",
                            "\u001b[1;36m2\u001b[0m  \u001b[1;36m3\u001b[0m dormitorios\\n2 banos\\n100 m2 utiles   \n",
                            "\u001b[1;36m3\u001b[0m    \u001b[1;36m2\u001b[0m dormitorios\\n1 bano\\n50 m2 utiles   \n",
                            "\u001b[1;36m4\u001b[0m  \u001b[1;36m3\u001b[0m dormitorios\\n2 banos\\n196 m2 utiles   \n",
                            "\n",
                            "                                           Ubicacion  \n",
                            "\u001b[1;36m0\u001b[0m  Antonio Varas \u001b[1;36m986\u001b[0m, Puerto Montt, Centro De Pue\u001b[33m...\u001b[0m  \n",
                            "\u001b[1;36m1\u001b[0m  Volcan Corcovado, Puerto Montt, La Paloma, Pue\u001b[33m...\u001b[0m  \n",
                            "\u001b[1;36m2\u001b[0m   Laguna Del Laja \u001b[1;36m4904\u001b[0m, Puerto Montt, Puerto Montt  \n",
                            "\u001b[1;36m3\u001b[0m    Impecable Estado \u001b[35m/\u001b[0m Sargento Silva, Puerto Montt  \n",
                            "\u001b[1;36m4\u001b[0m  Casa En Parcela Esquina A Orilla De Carretera \u001b[33m...\u001b[0m  "
                        ]
                    },
                    "execution_count": 3,
                    "metadata": {},
                    "output_type": "execute_result"
                }
            ],
            "source": [
                "# Mostramos las primeras 5 filas para entender la estructura inicial\n",
                "df.head(5)"
            ]
        },
        {
            "cell_type": "markdown",
            "metadata": {},
            "source": [
                "## 3. Obtención del Valor de la UF\n",
                "\n",
                "Para estandarizar los precios, necesitamos convertir los valores que están en UF a CLP. Para ello, llamamos a nuestra función del pipeline que consulta el valor actualizado de la UF."
            ]
        },
        {
            "cell_type": "code",
            "execution_count": 4,
            "metadata": {},
            "outputs": [
                {
                    "name": "stdout",
                    "output_type": "stream",
                    "text": [
                        "Obteniendo valor de la UF...\n",
                        "Obteniendo el valor actual de la UF desde mindicador.cl...\n",
                        "UF obtenida al 27-09-2025 es: $39,485.65 pesos.\n",
                        "Valor de la UF para el 27-09-2025: $39,485.65\n"
                    ]
                }
            ],
            "source": [
                "# --- Obtener el Valor de la UF ---\n",
                "print(\"Obteniendo valor de la UF...\")\n",
                "uf_actual = get_current_uf_value()\n",
                "fecha = datetime.datetime.now()\n",
                "\n",
                "if uf_actual:\n",
                "    uf_actual = float(uf_actual)\n",
                "    print(f\"Valor de la UF para el {fecha.strftime('%d-%m-%Y')}: ${uf_actual:,.2f}\")\n",
                "else:\n",
                "    # Si la API falla, usamos un valor de respaldo razonable\n",
                "    uf_actual = 40000  \n",
                "    print(f\"Advertencia: No se pudo obtener la UF. Se usará un valor por defecto de ${uf_actual:,.0f}\")"
            ]
        },
        {
            "cell_type": "markdown",
            "metadata": {},
            "source": [
                "## 4. Limpieza y Conversión de Precios\n",
                "\n",
                "Definimos una función para procesar la columna `Precio`. Esta función es capaz de:\n",
                "- Identificar si un precio está en UF o CLP.\n",
                "- Convertir los precios en UF a CLP multiplicándolos por el valor actual.\n",
                "- Extraer únicamente los números de los precios en CLP, eliminando símbolos como `$` o puntos.\n",
                "\n",
                "Luego, aplicamos esta función para crear una nueva columna `Precio_CLP` con todos los valores estandarizados."
            ]
        },
        {
            "cell_type": "code",
            "execution_count": 5,
            "metadata": {},
            "outputs": [
                {
                    "name": "stdout",
                    "output_type": "stream",
                    "text": [
                        "Columna 'Precio_CLP' creada.\n"
                    ]
                },
                {
                    "data": {
                        "text/html": [
                            "<pre style=\"white-space:pre;overflow-x:auto;line-height:normal;font-family:Menlo,'DejaVu Sans Mono',consolas,'Courier New',monospace\"></pre>\n"
                        ],
                        "text/plain": []
                    },
                    "metadata": {},
                    "output_type": "display_data"
                },
                {
                    "data": {
                        "text/html": [
                            "<div>\n",
                            "<style scoped>\n",
                            "    .dataframe tbody tr th:only-of-type {\n",
                            "        vertical-align: middle;\n",
                            "    }\n",
                            "\n",
                            "    .dataframe tbody tr th {\n",
                            "        vertical-align: top;\n",
                            "    }\n",
                            "\n",
                            "    .dataframe thead th {\n",
                            "        text-align: right;\n",
                            "    }\n",
                            "</style>\n",
                            "<table border=\"1\" class=\"dataframe\">\n",
                            "  <thead>\n",
                            "    <tr style=\"text-align: right;\">\n",
                            "      <th></th>\n",
                            "      <th>Precio</th>\n",
                            "      <th>Precio_CLP</th>\n",
                            "    </tr>\n",
                            "  </thead>\n",
                            "  <tbody>\n",
                            "    <tr>\n",
                            "      <th>0</th>\n",
                            "      <td>UF\\n25</td>\n",
                            "      <td>987141</td>\n",
                            "    </tr>\n",
                            "    <tr>\n",
                            "      <th>1</th>\n",
                            "      <td>$\\n450.000</td>\n",
                            "      <td>450000</td>\n",
                            "    </tr>\n",
                            "    <tr>\n",
                            "      <th>2</th>\n",
                            "      <td>$\\n750.000</td>\n",
                            "      <td>750000</td>\n",
                            "    </tr>\n",
                            "    <tr>\n",
                            "      <th>3</th>\n",
                            "      <td>$\\n500.000</td>\n",
                            "      <td>500000</td>\n",
                            "    </tr>\n",
                            "    <tr>\n",
                            "      <th>4</th>\n",
                            "      <td>$\\n850.000</td>\n",
                            "      <td>850000</td>\n",
                            "    </tr>\n",
                            "    <tr>\n",
                            "      <th>5</th>\n",
                            "      <td>$\\n550.000</td>\n",
                            "      <td>550000</td>\n",
                            "    </tr>\n",
                            "    <tr>\n",
                            "      <th>6</th>\n",
                            "      <td>$\\n470.000</td>\n",
                            "      <td>470000</td>\n",
                            "    </tr>\n",
                            "    <tr>\n",
                            "      <th>7</th>\n",
                            "      <td>$\\n450.000</td>\n",
                            "      <td>450000</td>\n",
                            "    </tr>\n",
                            "    <tr>\n",
                            "      <th>8</th>\n",
                            "      <td>UF\\n18\\n,\\n52</td>\n",
                            "      <td>1381998</td>\n",
                            "    </tr>\n",
                            "    <tr>\n",
                            "      <th>9</th>\n",
                            "      <td>$\\n600.000</td>\n",
                            "      <td>600000</td>\n",
                            "    </tr>\n",
                            "  </tbody>\n",
                            "</table>\n",
                            "</div>"
                        ],
                        "text/plain": [
                            "\n",
                            "          Precio  Precio_CLP\n",
                            "\u001b[1;36m0\u001b[0m         UF\\n25      \u001b[1;36m987141\u001b[0m\n",
                            "\u001b[1;36m1\u001b[0m     $\\n450.\u001b[1;36m000\u001b[0m      \u001b[1;36m450000\u001b[0m\n",
                            "\u001b[1;36m2\u001b[0m     $\\n750.\u001b[1;36m000\u001b[0m      \u001b[1;36m750000\u001b[0m\n",
                            "\u001b[1;36m3\u001b[0m     $\\n500.\u001b[1;36m000\u001b[0m      \u001b[1;36m500000\u001b[0m\n",
                            "\u001b[1;36m4\u001b[0m     $\\n850.\u001b[1;36m000\u001b[0m      \u001b[1;36m850000\u001b[0m\n",
                            "\u001b[1;36m5\u001b[0m     $\\n550.\u001b[1;36m000\u001b[0m      \u001b[1;36m550000\u001b[0m\n",
                            "\u001b[1;36m6\u001b[0m     $\\n470.\u001b[1;36m000\u001b[0m      \u001b[1;36m470000\u001b[0m\n",
                            "\u001b[1;36m7\u001b[0m     $\\n450.\u001b[1;36m000\u001b[0m      \u001b[1;36m450000\u001b[0m\n",
                            "\u001b[1;36m8\u001b[0m  UF\\n18\\n,\\n52     \u001b[1;36m1381998\u001b[0m\n",
                            "\u001b[1;36m9\u001b[0m     $\\n600.\u001b[1;36m000\u001b[0m      \u001b[1;36m600000\u001b[0m"
                        ]
                    },
                    "execution_count": 5,
                    "metadata": {},
                    "output_type": "execute_result"
                }
            ],
            "source": [
                "def clean_price(price_str, uf_value):\n",
                "    \"\"\"\n",
                "    Limpia una cadena de texto de precio, la convierte a CLP.\n",
                "    Si el precio está en UF, lo convierte usando el valor de la UF.\n",
                "    Si está en CLP, extrae solo los números.\n",
                "    \"\"\"\n",
                "    price_str = str(price_str).strip()\n",
                "\n",
                "    # Caso 1: Precio en UF\n",
                "    if \"uf\" in price_str.lower():\n",
                "        # Extraemos todos los números para manejar rangos (ej: \"UF 20 - 22\")\n",
                "        numbers = re.findall(r\"(\\d+\\.?\\d*)\", price_str)\n",
                "        if numbers:\n",
                "            try:\n",
                "                numeric_values = [float(n) for n in numbers]\n",
                "                uf_price_avg = sum(numeric_values) / len(numeric_values)\n",
                "                return round(uf_price_avg * uf_value)\n",
                "            except (ValueError, ZeroDivisionError):\n",
                "                return np.nan\n",
                "        return np.nan\n",
                "    \n",
                "    # Caso 2: Precio en CLP\n",
                "    else:\n",
                "        numbers_only = re.sub(r\"\\D\", \"\", price_str)\n",
                "        if numbers_only:\n",
                "            try:\n",
                "                return int(numbers_only)\n",
                "            except ValueError:\n",
                "                return np.nan\n",
                "        return np.nan\n",
                "\n",
                "# Aplicamos la función para crear la nueva columna 'Precio_CLP'\n",
                "df['Precio_CLP'] = df['Precio'].apply(lambda x: clean_price(x, uf_actual))\n",
                "\n",
                "# Verificamos el resultado\n",
                "print(\"Columna 'Precio_CLP' creada.\")\n",
                "df[['Precio', 'Precio_CLP']].head(10)"
            ]
        },
        {
            "cell_type": "markdown",
            "metadata": {},
            "source": [
                "## 5. Limpieza de Columnas de Texto\n",
                "\n",
                "Normalizamos las columnas de texto principales (`Tipo_de_hogar`) para facilitar el análisis. Esto incluye:\n",
                "- Eliminar tildes y caracteres especiales.\n",
                "- Estandarizar el contenido, como quitar la frase \"en arriendo\" del tipo de hogar."
            ]
        },
        {
            "cell_type": "code",
            "execution_count": 6,
            "metadata": {},
            "outputs": [
                {
                    "name": "stdout",
                    "output_type": "stream",
                    "text": [
                        "Columnas de texto limpiadas.\n"
                    ]
                },
                {
                    "data": {
                        "text/html": [
                            "<pre style=\"white-space:pre;overflow-x:auto;line-height:normal;font-family:Menlo,'DejaVu Sans Mono',consolas,'Courier New',monospace\"></pre>\n"
                        ],
                        "text/plain": []
                    },
                    "metadata": {},
                    "output_type": "display_data"
                },
                {
                    "data": {
                        "text/html": [
                            "<div>\n",
                            "<style scoped>\n",
                            "    .dataframe tbody tr th:only-of-type {\n",
                            "        vertical-align: middle;\n",
                            "    }\n",
                            "\n",
                            "    .dataframe tbody tr th {\n",
                            "        vertical-align: top;\n",
                            "    }\n",
                            "\n",
                            "    .dataframe thead th {\n",
                            "        text-align: right;\n",
                            "    }\n",
                            "</style>\n",
                            "<table border=\"1\" class=\"dataframe\">\n",
                            "  <thead>\n",
                            "    <tr style=\"text-align: right;\">\n",
                            "      <th></th>\n",
                            "      <th>Tipo_de_hogar</th>\n",
                            "    </tr>\n",
                            "  </thead>\n",
                            "  <tbody>\n",
                            "    <tr>\n",
                            "      <th>0</th>\n",
                            "      <td>Local</td>\n",
                            "    </tr>\n",
                            "    <tr>\n",
                            "      <th>1</th>\n",
                            "      <td>Departamento</td>\n",
                            "    </tr>\n",
                            "    <tr>\n",
                            "      <th>2</th>\n",
                            "      <td>Casa</td>\n",
                            "    </tr>\n",
                            "    <tr>\n",
                            "      <th>3</th>\n",
                            "      <td>Departamento</td>\n",
                            "    </tr>\n",
                            "    <tr>\n",
                            "      <th>4</th>\n",
                            "      <td>Casa</td>\n",
                            "    </tr>\n",
                            "  </tbody>\n",
                            "</table>\n",
                            "</div>"
                        ],
                        "text/plain": [
                            "\n",
                            "  Tipo_de_hogar\n",
                            "\u001b[1;36m0\u001b[0m         Local\n",
                            "\u001b[1;36m1\u001b[0m  Departamento\n",
                            "\u001b[1;36m2\u001b[0m          Casa\n",
                            "\u001b[1;36m3\u001b[0m  Departamento\n",
                            "\u001b[1;36m4\u001b[0m          Casa"
                        ]
                    },
                    "execution_count": 6,
                    "metadata": {},
                    "output_type": "execute_result"
                }
            ],
            "source": [
                "# Normalizamos texto: quitamos tildes y caracteres especiales\n",
                "for col in ['Ubicacion', 'Tipo_de_hogar']:\n",
                "    if col in df.columns:\n",
                "        df[col] = df[col].apply(lambda x: unidecode(str(x)))\n",
                "\n",
                "# Estandarizamos la columna 'Tipo_de_hogar'\n",
                "df['Tipo_de_hogar'] = df['Tipo_de_hogar'].str.replace(\" en arriendo\", \"\", case=False).str.strip()\n",
                "\n",
                "print(\"Columnas de texto limpiadas.\")\n",
                "\n",
                "# Verificamos los cambios\n",
                "df[['Tipo_de_hogar']].head()"
            ]
        },
        {
            "cell_type": "markdown",
            "metadata": {},
            "source": [
                "## 6. Extracción de Atributos\n",
                "\n",
                "La columna `Atributos` contiene información valiosa (dormitorios, baños, superficie) en una sola cadena de texto. Usamos expresiones regulares para extraer cada uno de estos valores en columnas numéricas separadas, lo que permitirá realizar cálculos y filtros sobre ellos."
            ]
        },
        {
            "cell_type": "code",
            "execution_count": 7,
            "metadata": {},
            "outputs": [
                {
                    "name": "stdout",
                    "output_type": "stream",
                    "text": [
                        "Atributos extraídos en nuevas columnas.\n"
                    ]
                },
                {
                    "data": {
                        "text/html": [
                            "<pre style=\"white-space:pre;overflow-x:auto;line-height:normal;font-family:Menlo,'DejaVu Sans Mono',consolas,'Courier New',monospace\"></pre>\n"
                        ],
                        "text/plain": []
                    },
                    "metadata": {},
                    "output_type": "display_data"
                },
                {
                    "data": {
                        "text/html": [
                            "<div>\n",
                            "<style scoped>\n",
                            "    .dataframe tbody tr th:only-of-type {\n",
                            "        vertical-align: middle;\n",
                            "    }\n",
                            "\n",
                            "    .dataframe tbody tr th {\n",
                            "        vertical-align: top;\n",
                            "    }\n",
                            "\n",
                            "    .dataframe thead th {\n",
                            "        text-align: right;\n",
                            "    }\n",
                            "</style>\n",
                            "<table border=\"1\" class=\"dataframe\">\n",
                            "  <thead>\n",
                            "    <tr style=\"text-align: right;\">\n",
                            "      <th></th>\n",
                            "      <th>Atributos</th>\n",
                            "      <th>Dormitorios</th>\n",
                            "      <th>Banos</th>\n",
                            "      <th>Superficie_m2</th>\n",
                            "    </tr>\n",
                            "  </thead>\n",
                            "  <tbody>\n",
                            "    <tr>\n",
                            "      <th>0</th>\n",
                            "      <td>3 banos\\n625 m2 utiles</td>\n",
                            "      <td>0</td>\n",
                            "      <td>3</td>\n",
                            "      <td>625</td>\n",
                            "    </tr>\n",
                            "    <tr>\n",
                            "      <th>1</th>\n",
                            "      <td>3 dormitorios\\n1 bano\\n42 m2 utiles</td>\n",
                            "      <td>3</td>\n",
                            "      <td>1</td>\n",
                            "      <td>42</td>\n",
                            "    </tr>\n",
                            "    <tr>\n",
                            "      <th>2</th>\n",
                            "      <td>3 dormitorios\\n2 banos\\n100 m2 utiles</td>\n",
                            "      <td>3</td>\n",
                            "      <td>2</td>\n",
                            "      <td>100</td>\n",
                            "    </tr>\n",
                            "    <tr>\n",
                            "      <th>3</th>\n",
                            "      <td>2 dormitorios\\n1 bano\\n50 m2 utiles</td>\n",
                            "      <td>2</td>\n",
                            "      <td>1</td>\n",
                            "      <td>50</td>\n",
                            "    </tr>\n",
                            "    <tr>\n",
                            "      <th>4</th>\n",
                            "      <td>3 dormitorios\\n2 banos\\n196 m2 utiles</td>\n",
                            "      <td>3</td>\n",
                            "      <td>2</td>\n",
                            "      <td>196</td>\n",
                            "    </tr>\n",
                            "  </tbody>\n",
                            "</table>\n",
                            "</div>"
                        ],
                        "text/plain": [
                            "\n",
                            "                               Atributos  Dormitorios  Banos  Superficie_m2\n",
                            "\u001b[1;36m0\u001b[0m                 \u001b[1;36m3\u001b[0m banos\\n625 m2 utiles            \u001b[1;36m0\u001b[0m      \u001b[1;36m3\u001b[0m            \u001b[1;36m625\u001b[0m\n",
                            "\u001b[1;36m1\u001b[0m    \u001b[1;36m3\u001b[0m dormitorios\\n1 bano\\n42 m2 utiles            \u001b[1;36m3\u001b[0m      \u001b[1;36m1\u001b[0m             \u001b[1;36m42\u001b[0m\n",
                            "\u001b[1;36m2\u001b[0m  \u001b[1;36m3\u001b[0m dormitorios\\n2 banos\\n100 m2 utiles            \u001b[1;36m3\u001b[0m      \u001b[1;36m2\u001b[0m            \u001b[1;36m100\u001b[0m\n",
                            "\u001b[1;36m3\u001b[0m    \u001b[1;36m2\u001b[0m dormitorios\\n1 bano\\n50 m2 utiles            \u001b[1;36m2\u001b[0m      \u001b[1;36m1\u001b[0m             \u001b[1;36m50\u001b[0m\n",
                            "\u001b[1;36m4\u001b[0m  \u001b[1;36m3\u001b[0m dormitorios\\n2 banos\\n196 m2 utiles            \u001b[1;36m3\u001b[0m      \u001b[1;36m2\u001b[0m            \u001b[1;36m196\u001b[0m"
                        ]
                    },
                    "execution_count": 7,
                    "metadata": {},
                    "output_type": "execute_result"
                }
            ],
            "source": [
                "df['Atributos'] = df['Atributos'].astype(str)\n",
                "\n",
                "# Usamos expresiones regulares para extraer la información de la columna 'Atributos'\n",
                "df['Dormitorios'] = df['Atributos'].str.extract(r'(\\d+)\\s*dormitorio', flags=re.IGNORECASE).fillna(0)\n",
                "df['Banos'] = df['Atributos'].str.extract(r'(\\d+)\\s*bano', flags=re.IGNORECASE).fillna(0)\n",
                "df['Superficie_m2'] = df['Atributos'].str.extract(r'(\\d+)\\s*m2', flags=re.IGNORECASE).fillna(0)\n",
                "df['Privados'] = df['Atributos'].str.extract(r'(\\d+)\\s*privado', flags=re.IGNORECASE).fillna(0)\n",
                "\n",
                "# Convertimos las nuevas columnas a tipo numérico (entero)\n",
                "df[['Dormitorios', 'Banos', 'Superficie_m2', 'Privados']] = df[['Dormitorios', 'Banos', 'Superficie_m2', 'Privados']].astype(int)\n",
                "\n",
                "print(\"Atributos extraídos en nuevas columnas.\")\n",
                "df[['Atributos', 'Dormitorios', 'Banos', 'Superficie_m2']].head()"
            ]
        },
        {
            "cell_type": "markdown",
            "metadata": {},
            "source": [
                "## 7. Selección Final y Limpieza de Nulos\n",
                "\n",
                "Creamos un nuevo DataFrame `df_limpio` que contiene únicamente las columnas que nos interesan para el análisis final. Además, eliminamos cualquier fila donde no se haya podido calcular un precio válido (`Precio_CLP`)."
            ]
        },
        {
            "cell_type": "code",
            "execution_count": 8,
            "metadata": {},
            "outputs": [
                {
                    "name": "stdout",
                    "output_type": "stream",
                    "text": [
                        "DataFrame final creado y valores nulos eliminados.\n"
                    ]
                }
            ],
            "source": [
                "# Definimos las columnas que queremos en nuestro dataset final\n",
                "columnas_finales = [\n",
                "    'Tipo_de_hogar',\n",
                "    'Precio',\n",
                "    'Atributos',\n",
                "    'Ubicacion',\n",
                "    'Precio_CLP',\n",
                "    'Dormitorios',\n",
                "    'Banos',\n",
                "    'Privados',\n",
                "    'Superficie_m2'\n",
                "]\n",
                "\n",
                "# Creamos el DataFrame limpio con solo las columnas deseadas\n",
                "df_limpio = df[columnas_finales].copy()\n",
                "\n",
                "# Eliminamos filas donde no se pudo calcular el precio en CLP o es cero\n",
                "df_limpio.dropna(subset=['Precio_CLP'], inplace=True)\n",
                "df_limpio = df_limpio[df_limpio['Precio_CLP'] > 0]\n",
                "\n",
                "print(\"DataFrame final creado y valores nulos eliminados.\")"
            ]
        },
        {
            "cell_type": "markdown",
            "metadata": {},
            "source": [
                "## 8. Verificación Final\n",
                "\n",
                "Revisamos la información y los tipos de datos del DataFrame limpio para asegurarnos de que todo esté en el formato correcto antes de guardarlo."
            ]
        },
        {
            "cell_type": "code",
            "execution_count": 9,
            "metadata": {},
            "outputs": [
                {
                    "name": "stdout",
                    "output_type": "stream",
                    "text": [
                        "Tipos de datos finales:\n",
                        "<class 'pandas.core.frame.DataFrame'>\n",
                        "RangeIndex: 597 entries, 0 to 596\n",
                        "Data columns (total 9 columns):\n",
                        " #   Column         Non-Null Count  Dtype \n",
                        "---  ------         --------------  ----- \n",
                        " 0   Tipo_de_hogar  597 non-null    string\n",
                        " 1   Precio         597 non-null    string\n",
                        " 2   Atributos      597 non-null    string\n",
                        " 3   Ubicacion      597 non-null    string\n",
                        " 4   Precio_CLP     597 non-null    Int64 \n",
                        " 5   Dormitorios    597 non-null    Int64 \n",
                        " 6   Banos          597 non-null    Int64 \n",
                        " 7   Privados       597 non-null    Int64 \n",
                        " 8   Superficie_m2  597 non-null    Int64 \n",
                        "dtypes: Int64(5), string(4)\n",
                        "memory usage: 45.0 KB\n"
                    ]
                }
            ],
            "source": [
                "# Usamos convert_dtypes() para que pandas asigne los tipos de datos más eficientes\n",
                "df_limpio = df_limpio.convert_dtypes()\n",
                "\n",
                "print(\"Tipos de datos finales:\")\n",
                "df_limpio.info()"
            ]
        }
    ],
    "metadata": {
        "kernelspec": {
            "display_name": "venv",
            "language": "python",
            "name": "python3"
        },
        "language_info": {
            "codemirror_mode": {
                "name": "ipython",
                "version": 3
            },
            "file_extension": ".py",
            "mimetype": "text/x-python",
            "name": "python",
            "nbconvert_exporter": "python",
            "pygments_lexer": "ipython3",
            "version": "3.11.9"
        }
    },
    "nbformat": 4,
    "nbformat_minor": 4
}
