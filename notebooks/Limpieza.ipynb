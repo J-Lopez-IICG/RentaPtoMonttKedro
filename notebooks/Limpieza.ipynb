{
 "cells": [
  {
   "cell_type": "markdown",
   "id": "3645cd5d",
   "metadata": {},
   "source": [
    "# Proceso de Limpieza de Datos de Arriendos en Puerto Montt\n",
    "\n",
    "Este notebook toma los datos brutos extraídos por el script de web scraping (`arriendos_puerto_montt.xlsx`) y realiza un proceso completo de limpieza y transformación. El objetivo es preparar un dataset limpio y estructurado (`arriendos_puerto_montt_limpio.xlsx`) listo para ser analizado y visualizado en Power BI."
   ]
  },
  {
   "cell_type": "code",
   "execution_count": null,
   "id": "19bfc03c",
   "metadata": {},
   "outputs": [
    {
     "name": "stdout",
     "output_type": "stream",
     "text": [
      "Librerías importadas correctamente.\n"
     ]
    }
   ],
   "source": [
    "import sys\n",
    "import os\n",
    "sys.path.append(os.path.abspath(os.path.join('..', 'src')))\n",
    "import pandas as pd\n",
    "import numpy as np\n",
    "import re\n",
    "from API_UF import get_uf_from_mindicador\n",
    "from unidecode import unidecode\n",
    "\n",
    "print(\"Librerías importadas correctamente.\")"
   ]
  },
  {
   "cell_type": "markdown",
   "id": "2ccfa33a",
   "metadata": {},
   "source": [
    "## 1. Carga de Datos\n",
    "\n",
    "Cargamos el archivo Excel con los datos en crudo desde la carpeta `data`."
   ]
  },
  {
   "cell_type": "code",
   "execution_count": 4,
   "id": "c91a2205",
   "metadata": {},
   "outputs": [
    {
     "name": "stdout",
     "output_type": "stream",
     "text": [
      "Archivo Excel cargado exitosamente.\n"
     ]
    }
   ],
   "source": [
    "# --- Configuración de Archivos ---\n",
    "input_path = r\"../data/arriendos_puerto_montt.xlsx\"\n",
    "output_path = r\"../data/arriendos_puerto_montt_limpio.xlsx\"\n",
    "\n",
    "# --- Cargar los Datos ---\n",
    "try:\n",
    "    df = pd.read_excel(input_path)\n",
    "    print(\"Archivo Excel cargado exitosamente.\")\n",
    "except FileNotFoundError:\n",
    "    print(f\"Error: No se encontró el archivo en la ruta '{input_path}'.\")\n",
    "except Exception as e:\n",
    "    print(f\"Ocurrió un error al cargar el archivo: {e}\")"
   ]
  },
  {
   "cell_type": "markdown",
   "id": "5fd99a7a",
   "metadata": {},
   "source": [
    "## 2. Exploración Inicial\n",
    "\n",
    "Visualizamos las primeras filas del DataFrame para entender la estructura y el formato de los datos antes de la limpieza."
   ]
  },
  {
   "cell_type": "code",
   "execution_count": 5,
   "id": "957336fa",
   "metadata": {},
   "outputs": [
    {
     "data": {
      "text/html": [
       "<div>\n",
       "<style scoped>\n",
       "    .dataframe tbody tr th:only-of-type {\n",
       "        vertical-align: middle;\n",
       "    }\n",
       "\n",
       "    .dataframe tbody tr th {\n",
       "        vertical-align: top;\n",
       "    }\n",
       "\n",
       "    .dataframe thead th {\n",
       "        text-align: right;\n",
       "    }\n",
       "</style>\n",
       "<table border=\"1\" class=\"dataframe\">\n",
       "  <thead>\n",
       "    <tr style=\"text-align: right;\">\n",
       "      <th></th>\n",
       "      <th>Tipo_de_hogar</th>\n",
       "      <th>Titulo</th>\n",
       "      <th>Precio</th>\n",
       "      <th>Ubicacion</th>\n",
       "      <th>Atributos</th>\n",
       "    </tr>\n",
       "  </thead>\n",
       "  <tbody>\n",
       "    <tr>\n",
       "      <th>0</th>\n",
       "      <td>Local en arriendo</td>\n",
       "      <td>Arriendo De Locales Comerciales Galeria Vinals...</td>\n",
       "      <td>UF 25</td>\n",
       "      <td>Antonio Varas 986, Puerto Montt, Centro De Pue...</td>\n",
       "      <td>3 banos 625 m2 utiles</td>\n",
       "    </tr>\n",
       "    <tr>\n",
       "      <th>1</th>\n",
       "      <td>Departamento en arriendo</td>\n",
       "      <td>Arriendo Departamento Amoblado 3d1b1e En Valle...</td>\n",
       "      <td>$ 450.000</td>\n",
       "      <td>Volcan Corcovado, Puerto Montt, La Paloma, Pue...</td>\n",
       "      <td>3 dormitorios 1 bano 42 m2 utiles</td>\n",
       "    </tr>\n",
       "    <tr>\n",
       "      <th>2</th>\n",
       "      <td>Casa en arriendo</td>\n",
       "      <td>3d/2b/3e Amplia Casa En Valle Volcanes, Puerto...</td>\n",
       "      <td>$ 750.000</td>\n",
       "      <td>Laguna Del Laja 4904, Puerto Montt, Puerto Montt</td>\n",
       "      <td>3 dormitorios 2 banos 100 m2 utiles</td>\n",
       "    </tr>\n",
       "    <tr>\n",
       "      <th>3</th>\n",
       "      <td>Departamento en arriendo</td>\n",
       "      <td>2 Dormitorios, 1 Bano. 1 Estacionamiento. Buen...</td>\n",
       "      <td>$ 500.000</td>\n",
       "      <td>Impecable Estado / Sargento Silva, Puerto Montt</td>\n",
       "      <td>2 dormitorios 1 bano 50 m2 utiles</td>\n",
       "    </tr>\n",
       "    <tr>\n",
       "      <th>4</th>\n",
       "      <td>Casa en arriendo</td>\n",
       "      <td>Casa En Parcela Esquina A Orilla De Carretera ...</td>\n",
       "      <td>$ 850.000</td>\n",
       "      <td>Casa En Parcela Esquina A Orilla De Carretera ...</td>\n",
       "      <td>3 dormitorios 2 banos 196 m2 utiles</td>\n",
       "    </tr>\n",
       "  </tbody>\n",
       "</table>\n",
       "</div>"
      ],
      "text/plain": [
       "              Tipo_de_hogar  \\\n",
       "0         Local en arriendo   \n",
       "1  Departamento en arriendo   \n",
       "2          Casa en arriendo   \n",
       "3  Departamento en arriendo   \n",
       "4          Casa en arriendo   \n",
       "\n",
       "                                              Titulo     Precio  \\\n",
       "0  Arriendo De Locales Comerciales Galeria Vinals...      UF 25   \n",
       "1  Arriendo Departamento Amoblado 3d1b1e En Valle...  $ 450.000   \n",
       "2  3d/2b/3e Amplia Casa En Valle Volcanes, Puerto...  $ 750.000   \n",
       "3  2 Dormitorios, 1 Bano. 1 Estacionamiento. Buen...  $ 500.000   \n",
       "4  Casa En Parcela Esquina A Orilla De Carretera ...  $ 850.000   \n",
       "\n",
       "                                           Ubicacion  \\\n",
       "0  Antonio Varas 986, Puerto Montt, Centro De Pue...   \n",
       "1  Volcan Corcovado, Puerto Montt, La Paloma, Pue...   \n",
       "2   Laguna Del Laja 4904, Puerto Montt, Puerto Montt   \n",
       "3    Impecable Estado / Sargento Silva, Puerto Montt   \n",
       "4  Casa En Parcela Esquina A Orilla De Carretera ...   \n",
       "\n",
       "                             Atributos  \n",
       "0                3 banos 625 m2 utiles  \n",
       "1    3 dormitorios 1 bano 42 m2 utiles  \n",
       "2  3 dormitorios 2 banos 100 m2 utiles  \n",
       "3    2 dormitorios 1 bano 50 m2 utiles  \n",
       "4  3 dormitorios 2 banos 196 m2 utiles  "
      ]
     },
     "execution_count": 5,
     "metadata": {},
     "output_type": "execute_result"
    }
   ],
   "source": [
    "# Mostramos las primeras 5 filas para entender la estructura inicial\n",
    "df.head()"
   ]
  },
  {
   "cell_type": "markdown",
   "id": "8543b2fe",
   "metadata": {},
   "source": [
    "## 3. Obtención del Valor de la UF\n",
    "\n",
    "Para estandarizar los precios, necesitamos convertir los valores que están en UF a CLP. Para ello, llamamos a nuestro módulo `API_UF` que consulta el valor actualizado de la UF desde la API de `mindicador.cl`. Si la API falla, se utiliza un valor de respaldo."
   ]
  },
  {
   "cell_type": "code",
   "execution_count": 6,
   "id": "e41db3f1",
   "metadata": {},
   "outputs": [
    {
     "name": "stdout",
     "output_type": "stream",
     "text": [
      "Obteniendo valor de la UF...\n",
      "Valor de la UF para el 19-09-2025: $39,485.65\n"
     ]
    }
   ],
   "source": [
    "# --- Obtener el Valor de la UF ---\n",
    "print(\"Obteniendo valor de la UF...\")\n",
    "fecha, uf_actual = get_uf_from_mindicador()\n",
    "\n",
    "if uf_actual:\n",
    "    uf_actual = float(uf_actual)\n",
    "    print(f\"Valor de la UF para el {fecha.strftime('%d-%m-%Y')}: ${uf_actual:,.2f}\")\n",
    "else:\n",
    "    # Si la API falla, usamos un valor de respaldo razonable\n",
    "    uf_actual = 40000  \n",
    "    print(f\"Advertencia: No se pudo obtener la UF. Se usará un valor por defecto de ${uf_actual:,.0f}\")"
   ]
  },
  {
   "cell_type": "markdown",
   "id": "ad944983",
   "metadata": {},
   "source": [
    "## 4. Limpieza y Conversión de Precios\n",
    "\n",
    "Definimos una función para procesar la columna `Precio`. Esta función es capaz de:\n",
    "- Identificar si un precio está en UF o CLP.\n",
    "- Convertir los precios en UF a CLP multiplicándolos por el valor actual.\n",
    "- Extraer únicamente los números de los precios en CLP, eliminando símbolos como `$` o puntos.\n",
    "\n",
    "Luego, aplicamos esta función para crear una nueva columna `Precio_CLP` con todos los valores estandarizados."
   ]
  },
  {
   "cell_type": "code",
   "execution_count": 7,
   "id": "4bbb3534",
   "metadata": {},
   "outputs": [
    {
     "name": "stdout",
     "output_type": "stream",
     "text": [
      "Columna 'Precio_CLP' creada.\n"
     ]
    },
    {
     "data": {
      "text/html": [
       "<div>\n",
       "<style scoped>\n",
       "    .dataframe tbody tr th:only-of-type {\n",
       "        vertical-align: middle;\n",
       "    }\n",
       "\n",
       "    .dataframe tbody tr th {\n",
       "        vertical-align: top;\n",
       "    }\n",
       "\n",
       "    .dataframe thead th {\n",
       "        text-align: right;\n",
       "    }\n",
       "</style>\n",
       "<table border=\"1\" class=\"dataframe\">\n",
       "  <thead>\n",
       "    <tr style=\"text-align: right;\">\n",
       "      <th></th>\n",
       "      <th>Precio</th>\n",
       "      <th>Precio_CLP</th>\n",
       "    </tr>\n",
       "  </thead>\n",
       "  <tbody>\n",
       "    <tr>\n",
       "      <th>0</th>\n",
       "      <td>UF 25</td>\n",
       "      <td>987141</td>\n",
       "    </tr>\n",
       "    <tr>\n",
       "      <th>1</th>\n",
       "      <td>$ 450.000</td>\n",
       "      <td>450000</td>\n",
       "    </tr>\n",
       "    <tr>\n",
       "      <th>2</th>\n",
       "      <td>$ 750.000</td>\n",
       "      <td>750000</td>\n",
       "    </tr>\n",
       "    <tr>\n",
       "      <th>3</th>\n",
       "      <td>$ 500.000</td>\n",
       "      <td>500000</td>\n",
       "    </tr>\n",
       "    <tr>\n",
       "      <th>4</th>\n",
       "      <td>$ 850.000</td>\n",
       "      <td>850000</td>\n",
       "    </tr>\n",
       "    <tr>\n",
       "      <th>5</th>\n",
       "      <td>$ 550.000</td>\n",
       "      <td>550000</td>\n",
       "    </tr>\n",
       "    <tr>\n",
       "      <th>6</th>\n",
       "      <td>$ 470.000</td>\n",
       "      <td>470000</td>\n",
       "    </tr>\n",
       "    <tr>\n",
       "      <th>7</th>\n",
       "      <td>$ 450.000</td>\n",
       "      <td>450000</td>\n",
       "    </tr>\n",
       "    <tr>\n",
       "      <th>8</th>\n",
       "      <td>UF 18 , 52</td>\n",
       "      <td>1381998</td>\n",
       "    </tr>\n",
       "    <tr>\n",
       "      <th>9</th>\n",
       "      <td>$ 600.000</td>\n",
       "      <td>600000</td>\n",
       "    </tr>\n",
       "  </tbody>\n",
       "</table>\n",
       "</div>"
      ],
      "text/plain": [
       "       Precio  Precio_CLP\n",
       "0       UF 25      987141\n",
       "1   $ 450.000      450000\n",
       "2   $ 750.000      750000\n",
       "3   $ 500.000      500000\n",
       "4   $ 850.000      850000\n",
       "5   $ 550.000      550000\n",
       "6   $ 470.000      470000\n",
       "7   $ 450.000      450000\n",
       "8  UF 18 , 52     1381998\n",
       "9   $ 600.000      600000"
      ]
     },
     "execution_count": 7,
     "metadata": {},
     "output_type": "execute_result"
    }
   ],
   "source": [
    "def clean_price(price_str, uf_value):\n",
    "    \"\"\"\n",
    "    Limpia una cadena de texto de precio, la convierte a CLP.\n",
    "    Si el precio está en UF, lo convierte usando el valor de la UF.\n",
    "    Si está en CLP, extrae solo los números.\n",
    "    \"\"\"\n",
    "    price_str = str(price_str).strip()\n",
    "\n",
    "    # Caso 1: Precio en UF\n",
    "    if \"uf\" in price_str.lower():\n",
    "        # Extraemos todos los números para manejar rangos (ej: \"UF 20 - 22\")\n",
    "        numbers = re.findall(r\"(\\d+\\.?\\d*)\", price_str)\n",
    "        if numbers:\n",
    "            try:\n",
    "                numeric_values = [float(n) for n in numbers]\n",
    "                uf_price_avg = sum(numeric_values) / len(numeric_values)\n",
    "                return round(uf_price_avg * uf_value)\n",
    "            except (ValueError, ZeroDivisionError):\n",
    "                return np.nan\n",
    "        return np.nan\n",
    "    \n",
    "    # Caso 2: Precio en CLP\n",
    "    else:\n",
    "        numbers_only = re.sub(r\"\\D\", \"\", price_str)\n",
    "        if numbers_only:\n",
    "            try:\n",
    "                return int(numbers_only)\n",
    "            except ValueError:\n",
    "                return np.nan\n",
    "        return np.nan\n",
    "\n",
    "# Aplicamos la función para crear la nueva columna 'Precio_CLP'\n",
    "df['Precio_CLP'] = df['Precio'].apply(lambda x: clean_price(x, uf_actual))\n",
    "\n",
    "# Verificamos el resultado\n",
    "print(\"Columna 'Precio_CLP' creada.\")\n",
    "df[['Precio', 'Precio_CLP']].head(10)"
   ]
  },
  {
   "cell_type": "markdown",
   "id": "9ee5e48d",
   "metadata": {},
   "source": [
    "## 5. Limpieza de Columnas de Texto\n",
    "\n",
    "Normalizamos las columnas de texto principales (`Titulo`, `Ubicacion`, `Tipo_de_hogar`) para facilitar el análisis. Esto incluye:\n",
    "- Eliminar tildes y caracteres especiales.\n",
    "- Estandarizar el contenido, como quitar la frase \"en arriendo\" del tipo de hogar."
   ]
  },
  {
   "cell_type": "code",
   "execution_count": 8,
   "id": "d479cd53",
   "metadata": {},
   "outputs": [
    {
     "name": "stdout",
     "output_type": "stream",
     "text": [
      "Columnas de texto limpiadas.\n"
     ]
    },
    {
     "data": {
      "text/html": [
       "<div>\n",
       "<style scoped>\n",
       "    .dataframe tbody tr th:only-of-type {\n",
       "        vertical-align: middle;\n",
       "    }\n",
       "\n",
       "    .dataframe tbody tr th {\n",
       "        vertical-align: top;\n",
       "    }\n",
       "\n",
       "    .dataframe thead th {\n",
       "        text-align: right;\n",
       "    }\n",
       "</style>\n",
       "<table border=\"1\" class=\"dataframe\">\n",
       "  <thead>\n",
       "    <tr style=\"text-align: right;\">\n",
       "      <th></th>\n",
       "      <th>Titulo</th>\n",
       "      <th>Tipo_de_hogar</th>\n",
       "    </tr>\n",
       "  </thead>\n",
       "  <tbody>\n",
       "    <tr>\n",
       "      <th>0</th>\n",
       "      <td>Arriendo De Locales Comerciales Galeria Vinals...</td>\n",
       "      <td>Local</td>\n",
       "    </tr>\n",
       "    <tr>\n",
       "      <th>1</th>\n",
       "      <td>Arriendo Departamento Amoblado 3d1b1e En Valle...</td>\n",
       "      <td>Departamento</td>\n",
       "    </tr>\n",
       "    <tr>\n",
       "      <th>2</th>\n",
       "      <td>3d/2b/3e Amplia Casa En Valle Volcanes, Puerto...</td>\n",
       "      <td>Casa</td>\n",
       "    </tr>\n",
       "    <tr>\n",
       "      <th>3</th>\n",
       "      <td>2 Dormitorios, 1 Bano. 1 Estacionamiento. Buen...</td>\n",
       "      <td>Departamento</td>\n",
       "    </tr>\n",
       "    <tr>\n",
       "      <th>4</th>\n",
       "      <td>Casa En Parcela Esquina A Orilla De Carretera ...</td>\n",
       "      <td>Casa</td>\n",
       "    </tr>\n",
       "  </tbody>\n",
       "</table>\n",
       "</div>"
      ],
      "text/plain": [
       "                                              Titulo Tipo_de_hogar\n",
       "0  Arriendo De Locales Comerciales Galeria Vinals...         Local\n",
       "1  Arriendo Departamento Amoblado 3d1b1e En Valle...  Departamento\n",
       "2  3d/2b/3e Amplia Casa En Valle Volcanes, Puerto...          Casa\n",
       "3  2 Dormitorios, 1 Bano. 1 Estacionamiento. Buen...  Departamento\n",
       "4  Casa En Parcela Esquina A Orilla De Carretera ...          Casa"
      ]
     },
     "execution_count": 8,
     "metadata": {},
     "output_type": "execute_result"
    }
   ],
   "source": [
    "# Normalizamos texto: quitamos tildes y caracteres especiales\n",
    "for col in ['Titulo', 'Ubicacion', 'Tipo_de_hogar']:\n",
    "    if col in df.columns:\n",
    "        df[col] = df[col].apply(lambda x: unidecode(str(x)))\n",
    "\n",
    "# Estandarizamos la columna 'Tipo_de_hogar'\n",
    "df['Tipo_de_hogar'] = df['Tipo_de_hogar'].str.replace(\" en arriendo\", \"\", case=False).str.strip()\n",
    "\n",
    "print(\"Columnas de texto limpiadas.\")\n",
    "df[['Titulo', 'Tipo_de_hogar']].head()"
   ]
  },
  {
   "cell_type": "markdown",
   "id": "203fedd2",
   "metadata": {},
   "source": [
    "## 6. Extracción de Atributos\n",
    "\n",
    "La columna `Atributos` contiene información valiosa (dormitorios, baños, superficie) en una sola cadena de texto. Usamos expresiones regulares para extraer cada uno de estos valores en columnas numéricas separadas, lo que permitirá realizar cálculos y filtros sobre ellos."
   ]
  },
  {
   "cell_type": "code",
   "execution_count": 9,
   "id": "8ea23cfb",
   "metadata": {},
   "outputs": [
    {
     "name": "stdout",
     "output_type": "stream",
     "text": [
      "Atributos extraídos en nuevas columnas.\n"
     ]
    },
    {
     "data": {
      "text/html": [
       "<div>\n",
       "<style scoped>\n",
       "    .dataframe tbody tr th:only-of-type {\n",
       "        vertical-align: middle;\n",
       "    }\n",
       "\n",
       "    .dataframe tbody tr th {\n",
       "        vertical-align: top;\n",
       "    }\n",
       "\n",
       "    .dataframe thead th {\n",
       "        text-align: right;\n",
       "    }\n",
       "</style>\n",
       "<table border=\"1\" class=\"dataframe\">\n",
       "  <thead>\n",
       "    <tr style=\"text-align: right;\">\n",
       "      <th></th>\n",
       "      <th>Atributos</th>\n",
       "      <th>Dormitorios</th>\n",
       "      <th>Banos</th>\n",
       "      <th>Superficie_m2</th>\n",
       "    </tr>\n",
       "  </thead>\n",
       "  <tbody>\n",
       "    <tr>\n",
       "      <th>0</th>\n",
       "      <td>3 banos 625 m2 utiles</td>\n",
       "      <td>0</td>\n",
       "      <td>3</td>\n",
       "      <td>625</td>\n",
       "    </tr>\n",
       "    <tr>\n",
       "      <th>1</th>\n",
       "      <td>3 dormitorios 1 bano 42 m2 utiles</td>\n",
       "      <td>3</td>\n",
       "      <td>1</td>\n",
       "      <td>42</td>\n",
       "    </tr>\n",
       "    <tr>\n",
       "      <th>2</th>\n",
       "      <td>3 dormitorios 2 banos 100 m2 utiles</td>\n",
       "      <td>3</td>\n",
       "      <td>2</td>\n",
       "      <td>100</td>\n",
       "    </tr>\n",
       "    <tr>\n",
       "      <th>3</th>\n",
       "      <td>2 dormitorios 1 bano 50 m2 utiles</td>\n",
       "      <td>2</td>\n",
       "      <td>1</td>\n",
       "      <td>50</td>\n",
       "    </tr>\n",
       "    <tr>\n",
       "      <th>4</th>\n",
       "      <td>3 dormitorios 2 banos 196 m2 utiles</td>\n",
       "      <td>3</td>\n",
       "      <td>2</td>\n",
       "      <td>196</td>\n",
       "    </tr>\n",
       "  </tbody>\n",
       "</table>\n",
       "</div>"
      ],
      "text/plain": [
       "                             Atributos  Dormitorios  Banos  Superficie_m2\n",
       "0                3 banos 625 m2 utiles            0      3            625\n",
       "1    3 dormitorios 1 bano 42 m2 utiles            3      1             42\n",
       "2  3 dormitorios 2 banos 100 m2 utiles            3      2            100\n",
       "3    2 dormitorios 1 bano 50 m2 utiles            2      1             50\n",
       "4  3 dormitorios 2 banos 196 m2 utiles            3      2            196"
      ]
     },
     "execution_count": 9,
     "metadata": {},
     "output_type": "execute_result"
    }
   ],
   "source": [
    "df['Atributos'] = df['Atributos'].astype(str)\n",
    "\n",
    "# Usamos expresiones regulares para extraer la información de la columna 'Atributos'\n",
    "df['Dormitorios'] = df['Atributos'].str.extract(r'(\\d+)\\s*dormitorio', flags=re.IGNORECASE).fillna(0)\n",
    "df['Banos'] = df['Atributos'].str.extract(r'(\\d+)\\s*bano', flags=re.IGNORECASE).fillna(0)\n",
    "df['Superficie_m2'] = df['Atributos'].str.extract(r'(\\d+)\\s*m2', flags=re.IGNORECASE).fillna(0)\n",
    "df['Privados'] = df['Atributos'].str.extract(r'(\\d+)\\s*privado', flags=re.IGNORECASE).fillna(0)\n",
    "\n",
    "# Convertimos las nuevas columnas a tipo numérico (entero)\n",
    "df[['Dormitorios', 'Banos', 'Superficie_m2', 'Privados']] = df[['Dormitorios', 'Banos', 'Superficie_m2', 'Privados']].astype(int)\n",
    "\n",
    "print(\"Atributos extraídos en nuevas columnas.\")\n",
    "df[['Atributos', 'Dormitorios', 'Banos', 'Superficie_m2']].head()"
   ]
  },
  {
   "cell_type": "markdown",
   "id": "659e754f",
   "metadata": {},
   "source": [
    "## 7. Selección Final y Limpieza de Nulos\n",
    "\n",
    "Creamos un nuevo DataFrame `df_limpio` que contiene únicamente las columnas que nos interesan para el análisis final. Además, eliminamos cualquier fila donde no se haya podido calcular un precio válido (`Precio_CLP`)."
   ]
  },
  {
   "cell_type": "code",
   "execution_count": 10,
   "id": "2c2c4c55",
   "metadata": {},
   "outputs": [
    {
     "name": "stdout",
     "output_type": "stream",
     "text": [
      "DataFrame final creado y valores nulos eliminados.\n"
     ]
    }
   ],
   "source": [
    "# Definimos las columnas que queremos en nuestro dataset final\n",
    "columnas_finales = [\n",
    "    'Tipo_de_hogar',\n",
    "    'Precio',\n",
    "    'Atributos',\n",
    "    'Ubicacion',\n",
    "    'Precio_CLP',\n",
    "    'Dormitorios',\n",
    "    'Banos',\n",
    "    'Privados',\n",
    "    'Superficie_m2'\n",
    "]\n",
    "\n",
    "# Creamos el DataFrame limpio con solo las columnas deseadas\n",
    "df_limpio = df[columnas_finales].copy()\n",
    "\n",
    "# Eliminamos filas donde no se pudo calcular el precio en CLP o es cero\n",
    "df_limpio.dropna(subset=['Precio_CLP'], inplace=True)\n",
    "df_limpio = df_limpio[df_limpio['Precio_CLP'] > 0]\n",
    "\n",
    "print(\"DataFrame final creado y valores nulos eliminados.\")"
   ]
  },
  {
   "cell_type": "markdown",
   "id": "ab914895",
   "metadata": {},
   "source": [
    "## 8. Verificación Final\n",
    "\n",
    "Revisamos la información y los tipos de datos del DataFrame limpio para asegurarnos de que todo esté en el formato correcto antes de guardarlo."
   ]
  },
  {
   "cell_type": "code",
   "execution_count": 11,
   "id": "c9772f13",
   "metadata": {},
   "outputs": [
    {
     "name": "stdout",
     "output_type": "stream",
     "text": [
      "Tipos de datos finales:\n",
      "<class 'pandas.core.frame.DataFrame'>\n",
      "RangeIndex: 597 entries, 0 to 596\n",
      "Data columns (total 9 columns):\n",
      " #   Column         Non-Null Count  Dtype \n",
      "---  ------         --------------  ----- \n",
      " 0   Tipo_de_hogar  597 non-null    string\n",
      " 1   Precio         597 non-null    string\n",
      " 2   Atributos      597 non-null    string\n",
      " 3   Ubicacion      597 non-null    string\n",
      " 4   Precio_CLP     597 non-null    Int64 \n",
      " 5   Dormitorios    597 non-null    Int64 \n",
      " 6   Banos          597 non-null    Int64 \n",
      " 7   Privados       597 non-null    Int64 \n",
      " 8   Superficie_m2  597 non-null    Int64 \n",
      "dtypes: Int64(5), string(4)\n",
      "memory usage: 45.0 KB\n"
     ]
    }
   ],
   "source": [
    "# Usamos convert_dtypes() para que pandas asigne los tipos de datos más eficientes\n",
    "df_limpio = df_limpio.convert_dtypes()\n",
    "\n",
    "print(\"Tipos de datos finales:\")\n",
    "df_limpio.info()"
   ]
  },
  {
   "cell_type": "markdown",
   "id": "7176e2b5",
   "metadata": {},
   "source": [
    "## 9. Guardado del Dataset Limpio\n",
    "\n",
    "Finalmente, guardamos el DataFrame procesado en un nuevo archivo Excel en la carpeta `data`. Este archivo será el que se conectará a Power BI."
   ]
  },
  {
   "cell_type": "code",
   "execution_count": 12,
   "id": "586d245d",
   "metadata": {},
   "outputs": [
    {
     "name": "stdout",
     "output_type": "stream",
     "text": [
      "\n",
      "¡Éxito! Datos limpios guardados en:\n",
      "'../data/arriendos_puerto_montt_limpio.xlsx'\n"
     ]
    }
   ],
   "source": [
    "# --- Guardar el archivo limpio ---\n",
    "try:\n",
    "    df_limpio.to_excel(output_path, index=False)\n",
    "    print(f\"\\n¡Éxito! Datos limpios guardados en:\\n'{output_path}'\")\n",
    "except Exception as e:\n",
    "    print(f\"Ocurrió un error al guardar el archivo: {e}\")"
   ]
  }
 ],
 "metadata": {
  "kernelspec": {
   "display_name": "Python 3",
   "language": "python",
   "name": "python3"
  },
  "language_info": {
   "codemirror_mode": {
    "name": "ipython",
    "version": 3
   },
   "file_extension": ".py",
   "mimetype": "text/x-python",
   "name": "python",
   "nbconvert_exporter": "python",
   "pygments_lexer": "ipython3",
   "version": "3.13.7"
  }
 },
 "nbformat": 4,
 "nbformat_minor": 5
}
